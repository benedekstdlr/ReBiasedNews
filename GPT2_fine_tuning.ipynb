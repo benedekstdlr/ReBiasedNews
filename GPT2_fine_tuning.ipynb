{
  "nbformat": 4,
  "nbformat_minor": 0,
  "metadata": {
    "colab": {
      "name": "GPT2 fine-tuning.ipynb",
      "provenance": [],
      "collapsed_sections": [],
      "include_colab_link": true
    },
    "kernelspec": {
      "name": "python3",
      "display_name": "Python 3"
    }
  },
  "cells": [
    {
      "cell_type": "markdown",
      "metadata": {
        "id": "view-in-github",
        "colab_type": "text"
      },
      "source": [
        "<a href=\"https://colab.research.google.com/github/szentsas/ReBiasedNews/blob/master/GPT2_fine_tuning.ipynb\" target=\"_parent\"><img src=\"https://colab.research.google.com/assets/colab-badge.svg\" alt=\"Open In Colab\"/></a>"
      ]
    },
    {
      "cell_type": "code",
      "metadata": {
        "id": "STwVSMyDu09g",
        "colab_type": "code",
        "outputId": "1c949ffd-9630-4d75-f906-0549d5b66a05",
        "colab": {
          "base_uri": "https://localhost:8080/",
          "height": 185
        }
      },
      "source": [
        "!pip install gpt-2-simple"
      ],
      "execution_count": 0,
      "outputs": [
        {
          "output_type": "stream",
          "text": [
            "Requirement already satisfied: gpt-2-simple in /usr/local/lib/python3.6/dist-packages (0.7.1)\n",
            "Requirement already satisfied: numpy in /usr/local/lib/python3.6/dist-packages (from gpt-2-simple) (1.17.5)\n",
            "Requirement already satisfied: toposort in /usr/local/lib/python3.6/dist-packages (from gpt-2-simple) (1.5)\n",
            "Requirement already satisfied: regex in /usr/local/lib/python3.6/dist-packages (from gpt-2-simple) (2019.12.20)\n",
            "Requirement already satisfied: requests in /usr/local/lib/python3.6/dist-packages (from gpt-2-simple) (2.21.0)\n",
            "Requirement already satisfied: tqdm in /usr/local/lib/python3.6/dist-packages (from gpt-2-simple) (4.28.1)\n",
            "Requirement already satisfied: certifi>=2017.4.17 in /usr/local/lib/python3.6/dist-packages (from requests->gpt-2-simple) (2019.11.28)\n",
            "Requirement already satisfied: chardet<3.1.0,>=3.0.2 in /usr/local/lib/python3.6/dist-packages (from requests->gpt-2-simple) (3.0.4)\n",
            "Requirement already satisfied: idna<2.9,>=2.5 in /usr/local/lib/python3.6/dist-packages (from requests->gpt-2-simple) (2.8)\n",
            "Requirement already satisfied: urllib3<1.25,>=1.21.1 in /usr/local/lib/python3.6/dist-packages (from requests->gpt-2-simple) (1.24.3)\n"
          ],
          "name": "stdout"
        }
      ]
    },
    {
      "cell_type": "code",
      "metadata": {
        "id": "Y7NzbkwHvump",
        "colab_type": "code",
        "colab": {
          "base_uri": "https://localhost:8080/",
          "height": 1000
        },
        "outputId": "df0b6e6a-3a34-4ed0-a259-e180c3e8b4bc"
      },
      "source": [
        "import gpt_2_simple as gpt2\n",
        "import os\n",
        "import requests\n",
        "\n",
        "model_name = \"345M\"\n",
        "if not os.path.isdir(os.path.join(\"models\", model_name)):\n",
        "\tprint(f\"Downloading {model_name} model...\")\n",
        "\tgpt2.download_gpt2(model_name=model_name)   # model is saved into current directory under /models/124M/\n",
        "\n",
        "\n",
        "file_name = \"newyorktimes.txt\"\n",
        "if not os.path.isfile(file_name):\n",
        "\turl = \"https://raw.githubusercontent.com/karpathy/char-rnn/master/data/tinyshakespeare/input.txt\"\n",
        "\tdata = requests.get(url)\n",
        "\t\n",
        "\twith open(file_name, 'w') as f:\n",
        "\t\tf.write(data.text)\n",
        "    \n",
        "\n",
        "sess = gpt2.start_tf_sess()\n",
        "gpt2.finetune(sess,\n",
        "              file_name,\n",
        "              model_name=model_name,\n",
        "              steps=10)   # steps is max number of training steps\n",
        "\n",
        "gpt2.generate(sess)"
      ],
      "execution_count": 4,
      "outputs": [
        {
          "output_type": "display_data",
          "data": {
            "text/html": [
              "<p style=\"color: red;\">\n",
              "The default version of TensorFlow in Colab will soon switch to TensorFlow 2.x.<br>\n",
              "We recommend you <a href=\"https://www.tensorflow.org/guide/migrate\" target=\"_blank\">upgrade</a> now \n",
              "or ensure your notebook will continue to use TensorFlow 1.x via the <code>%tensorflow_version 1.x</code> magic:\n",
              "<a href=\"https://colab.research.google.com/notebooks/tensorflow_version.ipynb\" target=\"_blank\">more info</a>.</p>\n"
            ],
            "text/plain": [
              "<IPython.core.display.HTML object>"
            ]
          },
          "metadata": {
            "tags": []
          }
        },
        {
          "output_type": "stream",
          "text": [
            "WARNING:tensorflow:\n",
            "The TensorFlow contrib module will not be included in TensorFlow 2.0.\n",
            "For more information, please see:\n",
            "  * https://github.com/tensorflow/community/blob/master/rfcs/20180907-contrib-sunset.md\n",
            "  * https://github.com/tensorflow/addons\n",
            "  * https://github.com/tensorflow/io (for I/O related ops)\n",
            "If you depend on functionality not listed there, please file an issue.\n",
            "\n"
          ],
          "name": "stdout"
        },
        {
          "output_type": "stream",
          "text": [
            "Fetching checkpoint: 1.05Mit [00:00, 281Mit/s]                                                      \n",
            "Fetching encoder.json: 1.05Mit [00:00, 84.4Mit/s]                                                   "
          ],
          "name": "stderr"
        },
        {
          "output_type": "stream",
          "text": [
            "Downloading 345M model...\n"
          ],
          "name": "stdout"
        },
        {
          "output_type": "stream",
          "text": [
            "\n",
            "Fetching hparams.json: 1.05Mit [00:00, 301Mit/s]                                                    \n",
            "Fetching model.ckpt.data-00000-of-00001: 1.42Git [00:06, 226Mit/s]                                  \n",
            "Fetching model.ckpt.index: 1.05Mit [00:00, 346Mit/s]                                                \n",
            "Fetching model.ckpt.meta: 1.05Mit [00:00, 94.8Mit/s]                                                \n",
            "Fetching vocab.bpe: 1.05Mit [00:00, 167Mit/s]                                                       \n"
          ],
          "name": "stderr"
        },
        {
          "output_type": "stream",
          "text": [
            "WARNING:tensorflow:From /usr/local/lib/python3.6/dist-packages/gpt_2_simple/src/sample.py:17: where (from tensorflow.python.ops.array_ops) is deprecated and will be removed in a future version.\n",
            "Instructions for updating:\n",
            "Use tf.where in 2.0, which has the same broadcast rule as np.where\n",
            "WARNING:tensorflow:From /usr/local/lib/python3.6/dist-packages/gpt_2_simple/src/memory_saving_gradients.py:62: get_backward_walk_ops (from tensorflow.contrib.graph_editor.select) is deprecated and will be removed after 2019-06-06.\n",
            "Instructions for updating:\n",
            "Please use tensorflow.python.ops.op_selector.get_backward_walk_ops.\n",
            "Loading checkpoint models/345M/model.ckpt\n",
            "INFO:tensorflow:Restoring parameters from models/345M/model.ckpt\n"
          ],
          "name": "stdout"
        },
        {
          "output_type": "stream",
          "text": [
            "\r  0%|          | 0/1 [00:00<?, ?it/s]"
          ],
          "name": "stderr"
        },
        {
          "output_type": "stream",
          "text": [
            "Loading dataset...\n"
          ],
          "name": "stdout"
        },
        {
          "output_type": "stream",
          "text": [
            "\r100%|██████████| 1/1 [01:08<00:00, 68.21s/it]\n"
          ],
          "name": "stderr"
        },
        {
          "output_type": "stream",
          "text": [
            "dataset has 12114680 tokens\n",
            "Training...\n",
            "[1 | 96.98] loss=2.82 avg=2.82\n",
            "[2 | 179.19] loss=2.76 avg=2.79\n",
            "[3 | 261.44] loss=2.91 avg=2.83\n",
            "[4 | 343.91] loss=2.44 avg=2.73\n",
            "[5 | 427.86] loss=3.16 avg=2.82\n",
            "[6 | 510.03] loss=3.22 avg=2.89\n",
            "[7 | 592.57] loss=3.00 avg=2.90\n",
            "[8 | 674.76] loss=3.21 avg=2.94\n",
            "[9 | 757.03] loss=2.68 avg=2.91\n",
            "[10 | 839.38] loss=3.12 avg=2.93\n",
            "Saving checkpoint/run1/model-10\n",
            "A member of the notorious \"Vale of Death\" was burned alive in the skinning of the animal.\n",
            "\n",
            "The dog was used inside the London zoo during the dry season to demonstrate the speed of a lioness.\n",
            "\n",
            "The boned animal was taken to the zoo in a crate from a hedge, stuffed and skinned.\n",
            "\n",
            "It is believed the dog was used to demonstrate the speed of a lioness.\n",
            "\n",
            "The zoo says the dog was used inside the London zoo during the dry season to demonstrate the speed of a lioness.\n",
            "\n",
            "It said: \"The zoo is extremely proud to have had the opportunity to use this majestic animal as part of its annual presentation.\n",
            "\n",
            "\"The zookeeper was very upset when she noticed that the dog was used to show during the dry season, and she was very upset when she discovered that the dog had been skinned.\n",
            "\n",
            "\"She was especially upset when she discovered that the skin was actually moist and that the dog had actually been skinned. The zoo did not want to know about the animal and decided to leave it alone.\n",
            "\n",
            "\"The zoo has no idea why this animal was used and does not know how it got there.\n",
            "\n",
            "\"The zoo has also told us that it does not exchange animals. We are encouraged that the zoo has not sold any of its dogs in the last 15 years, and we would like to say thanks to the zoo for its continued support of the animals.\"<|endoftext|>This is a subreddit for discussing game design. If you've ever tried to design a game, you've probably heard it called a hack. It's a term from gaming that would imply that the idea of creating something is incredibly difficult, especially when you're trying to do it yourself.\n",
            "\n",
            "There's a lot of players who don't know how to hack, but we're here to help. We'll help you create the game you want to play, and we'll be there to help you get the funding you need to get there.\n",
            "\n",
            "If you're someone who just wants to know how to hack, here are some tips:\n",
            "\n",
            "Learn the basics first.\n",
            "\n",
            "These are the basic principles of game design. Learn them at least once before you begin.\n",
            "\n",
            "Learn and comment on other people's games.\n",
            "\n",
            "Players who don't know how to hack aren't likely to like your game. If you've created games before, you know what to say to anyone who asks.\n",
            "\n",
            "Don't take personal advice from your friends.\n",
            "\n",
            "It's rude to follow someone else's advice.\n",
            "\n",
            "Use tools like Facebook and Twitter to help you get the word out.\n",
            "\n",
            "Build a community around your game.\n",
            "\n",
            "It's awesome that you're creating a community around your game. This is where you're going to find the players you'll need to succeed. The more you're able to build a vibrant community around your game, the less likely you are to fail.\n",
            "\n",
            "But it's not like you have to create a website to do that. You can just add a link to your game on Reddit, Facebook, or Twitter.\n",
            "\n",
            "And if you're having trouble finding players, you can always try to get them on your forums.\n",
            "\n",
            "Everyone has a great time creating their own game. Make sure you're not alone.<|endoftext|>I'm a big fan of the internet. To a certain extent, it can be distracting, especially if you're on the fence. It's important that you keep these things to yourself and it's important that you follow the rules of the internet.\n",
            "\n",
            "However, when you've got your computer on your lap, all of that is gone. You're forced to rely on the internet to see what you're watching. As such, I tend not to like a lot of the internet.\n",
            "\n",
            "The fact that I'm using the internet seems strange to me. I used to go online pretty much every day, but not anymore. Now I'm using it occasionally, too. I used to think that I knew a lot about this. It was like I knew a lot about some stuff as well. I had a lot of experience on the internet.\n",
            "\n",
            "As for what I liked about the internet, I have to admit that I liked the fact that I did not have to worry about my identity. I could hide that, and everyone would know. There was even a time when I used to go online and hide that I was writing this story. I'm not sure if this was a joke or what but it was something I did.\n",
            "\n",
            "I also like that I did not have to worry about what other people thought about me. I was able to have conversations with people that I did not know. I did not have to worry about how people were going to react to my choices, or what was going to happen to me if I did something bad.\n",
            "\n",
            "I also liked that I did not have to worry about what people thought about me. I was able to have conversations with people that\n"
          ],
          "name": "stdout"
        }
      ]
    },
    {
      "cell_type": "code",
      "metadata": {
        "id": "HmnuYrYD4cPT",
        "colab_type": "code",
        "colab": {}
      },
      "source": [
        "gpt2.generate(sess, prefix='Obama shook Trump\\'s hand.')"
      ],
      "execution_count": 0,
      "outputs": []
    },
    {
      "cell_type": "code",
      "metadata": {
        "id": "ZotBq28vRfsg",
        "colab_type": "code",
        "colab": {}
      },
      "source": [
        "!rm -rf sample_data"
      ],
      "execution_count": 0,
      "outputs": []
    }
  ]
}